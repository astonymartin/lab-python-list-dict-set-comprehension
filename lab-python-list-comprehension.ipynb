{
 "cells": [
  {
   "cell_type": "markdown",
   "id": "25d7736c-ba17-4aff-b6bb-66eba20fbf4e",
   "metadata": {},
   "source": [
    "# Lab | List, Dict and Set Comprehension"
   ]
  },
  {
   "cell_type": "markdown",
   "id": "7dd3cbde-675a-4b81-92c3-f728846dbe06",
   "metadata": {},
   "source": [
    "## Exercise: Managing Customer Orders Optimized with Comprehension"
   ]
  },
  {
   "cell_type": "markdown",
   "id": "5d500160-2fb7-4777-b5e4-09d45ebaf328",
   "metadata": {},
   "source": [
    "In the previous exercise, you developed a program to manage customer orders and inventory. Now, let's take it a step further and incorporate comprehension into your code.\n",
    "\n",
    "Follow the steps below to complete the exercise:\n",
    "\n",
    "1. Review your code from the previous exercise and identify areas where you can apply comprehension to simplify and streamline your code. \n",
    "\n",
    "    - *Hint: Apply it to initialize inventory, updating the inventory and printing the updated inventory.*\n",
    "    \n",
    "    - For example, in initializing the inventory, we could have:\n",
    "    \n",
    "        ```python\n",
    "        def initialize_inventory(products):\n",
    "            inventory = {product: int(input(f\"Enter the quantity of {product}s available: \")) for product in products}\n",
    "            return inventory\n",
    "\n",
    "        ```\n",
    "<br>\n",
    "    \n",
    "    \n",
    "2. Modify the function get_customer_orders so it prompts the user to enter the number of customer orders and gathers the product names using a loop and user input. Use comprehension.\n",
    "\n",
    "3. Add a new function to calculate the total price of the customer order. For each product in customer_orders, prompt the user to enter the price of that product. Use comprehension to calculate the total price. Note: assume that the user can only have 1 unit of each product.\n",
    "\n",
    "4. Modify the update_inventory function to remove the product from the inventory if its quantity becomes zero after fulfilling the customer orders. Use comprehension to filter out the products with a quantity of zero from the inventory.\n",
    "\n",
    "5. Print the total price of the customer order.\n",
    "\n",
    "Your code should produce output similar to the following:\n",
    "\n",
    "```python\n",
    "Enter the quantity of t-shirts available:  5\n",
    "Enter the quantity of mugs available:  4\n",
    "Enter the quantity of hats available:  3\n",
    "Enter the quantity of books available:  2\n",
    "Enter the quantity of keychains available:  1\n",
    "Enter the number of customer orders:  2\n",
    "Enter the name of a product that a customer wants to order:  hat\n",
    "Enter the name of a product that a customer wants to order:  keychain\n",
    "\n",
    "Order Statistics:\n",
    "Total Products Ordered: 2\n",
    "Percentage of Unique Products Ordered: 40.0\n",
    "\n",
    "Updated Inventory:\n",
    "t-shirt: 5\n",
    "mug: 4\n",
    "hat: 2\n",
    "book: 2\n",
    "Enter the price of keychain:  5\n",
    "Enter the price of hat:  10\n",
    "Total Price: 15.0\n",
    "\n",
    "```\n"
   ]
  },
  {
   "cell_type": "code",
   "execution_count": 1,
   "id": "e2dea7ad",
   "metadata": {},
   "outputs": [],
   "source": [
    "products = [\"t-shirt\", \"mug\", \"hat\", \"book\", \"keychain\"]\n",
    "inventory = {}\n",
    "customer_orders = {}\n",
    "order = {}"
   ]
  },
  {
   "cell_type": "code",
   "execution_count": 2,
   "id": "cb4574db",
   "metadata": {},
   "outputs": [
    {
     "name": "stdout",
     "output_type": "stream",
     "text": [
      "Introduce la cantidad de t-shirt disponible: 5\n",
      "Introduce la cantidad de mug disponible: 5\n",
      "Introduce la cantidad de hat disponible: 5\n",
      "Introduce la cantidad de book disponible: 5\n",
      "Introduce la cantidad de keychain disponible: 5\n",
      "{'t-shirt': 5, 'mug': 5, 'hat': 5, 'book': 5, 'keychain': 5}\n"
     ]
    }
   ],
   "source": [
    "def verificador_input_int():\n",
    "    while True:\n",
    "        try: \n",
    "            inventory = {product: int(input(f\"Introduce la cantidad de {product} disponible: \")) for product in products}\n",
    "            return inventory\n",
    "        except ValueError:\n",
    "            print(\"Por favor, ingresa un número entero válido.\")\n",
    "\n",
    "inventory = verificador_input_int()\n",
    "print(inventory)"
   ]
  },
  {
   "cell_type": "code",
   "execution_count": 3,
   "id": "879f04bf",
   "metadata": {},
   "outputs": [
    {
     "name": "stdout",
     "output_type": "stream",
     "text": [
      "Selecciona la cantidad de t-shirt: 5\n",
      "Selecciona la cantidad de mug: 4\n",
      "Selecciona la cantidad de hat: 4\n",
      "Selecciona la cantidad de book: 5\n",
      "Selecciona la cantidad de keychain: 4\n"
     ]
    }
   ],
   "source": [
    "def get_customers_orders():\n",
    "    order = {}\n",
    "    for product in products:\n",
    "        while True:\n",
    "            try:\n",
    "                cantidad = input(f\"Selecciona la cantidad de {product}: \")\n",
    "                if int(cantidad) > inventory[product]:\n",
    "                    print(f\"No tenemos suficiente stock, selecciona una cantidad menor o igual a {inventory[product]}\")\n",
    "                else:\n",
    "                    order[product] = int(cantidad)\n",
    "                    break \n",
    "            except ValueError:\n",
    "                print(\"Por favor, ingresa un número entero válido.\")\n",
    "    return order\n",
    "    \n",
    "orders = get_customers_orders()"
   ]
  },
  {
   "cell_type": "code",
   "execution_count": 10,
   "id": "6072397a",
   "metadata": {},
   "outputs": [
    {
     "name": "stdout",
     "output_type": "stream",
     "text": [
      "Ingresa el precio de t-shirt: 4\n",
      "Ingresa el precio de mug: 3\n",
      "Ingresa el precio de hat: 2\n",
      "Ingresa el precio de book: 4\n",
      "Ingresa el precio de keychain: 3\n"
     ]
    }
   ],
   "source": [
    "def calculate_total_price():\n",
    "    order_price = {product: float(input(f\"Ingresa el precio de {product}: \")) for product in products}\n",
    "    total_price = sum(order_price.values())\n",
    "    return total_price, order_price\n",
    "\n",
    "total_price, order_price = calculate_total_price()"
   ]
  },
  {
   "cell_type": "code",
   "execution_count": 5,
   "id": "e063fd29",
   "metadata": {},
   "outputs": [
    {
     "name": "stdout",
     "output_type": "stream",
     "text": [
      "{'t-shirt': 5, 'mug': 5, 'hat': 5, 'book': 5, 'keychain': 5}\n",
      "{'t-shirt': 5, 'mug': 4, 'hat': 4, 'book': 5, 'keychain': 4}\n"
     ]
    },
    {
     "data": {
      "text/plain": [
       "{'mug': 1, 'hat': 1, 'keychain': 1}"
      ]
     },
     "execution_count": 5,
     "metadata": {},
     "output_type": "execute_result"
    }
   ],
   "source": [
    "def update_inventory(inventory, orders):\n",
    "    for key in orders.keys():\n",
    "        if key in inventory:\n",
    "            inventory[key] = inventory[key] - orders[key]\n",
    "            if inventory[key] == 0:\n",
    "                del inventory[key]\n",
    "        else:\n",
    "            print(f\"El producto {key} no está en el inventario.\")\n",
    "    \n",
    "    return inventory\n",
    "update_inventory(inventory, orders)"
   ]
  },
  {
   "cell_type": "code",
   "execution_count": 15,
   "id": "46e330fc",
   "metadata": {},
   "outputs": [
    {
     "name": "stdout",
     "output_type": "stream",
     "text": [
      "Precio total: 164.0\n"
     ]
    },
    {
     "data": {
      "text/plain": [
       "164.0"
      ]
     },
     "execution_count": 15,
     "metadata": {},
     "output_type": "execute_result"
    }
   ],
   "source": [
    "def precio_total():\n",
    "    total = 0\n",
    "    for key, value in orders.items():\n",
    "        precio = orders[key] * order_price[key]\n",
    "        total += precio\n",
    "    print(\"Precio total:\", total)\n",
    "    return total\n",
    "\n",
    "precio_total()"
   ]
  },
  {
   "cell_type": "code",
   "execution_count": 14,
   "id": "5050cbfd",
   "metadata": {},
   "outputs": [
    {
     "name": "stdout",
     "output_type": "stream",
     "text": [
      "Precio total: 164.0\n"
     ]
    },
    {
     "data": {
      "text/plain": [
       "164.0"
      ]
     },
     "execution_count": 14,
     "metadata": {},
     "output_type": "execute_result"
    }
   ],
   "source": [
    "def precio_total():\n",
    "    total = sum(orders[key] * order_price[key] for key, value in orders.items())\n",
    "    print(\"Precio total:\", total)\n",
    "    return total\n",
    "\n",
    "precio_total()\n"
   ]
  },
  {
   "cell_type": "code",
   "execution_count": null,
   "id": "ffb264d6",
   "metadata": {},
   "outputs": [],
   "source": []
  },
  {
   "cell_type": "code",
   "execution_count": null,
   "id": "28ab7c10",
   "metadata": {},
   "outputs": [],
   "source": []
  },
  {
   "cell_type": "code",
   "execution_count": null,
   "id": "2d2ab920",
   "metadata": {},
   "outputs": [],
   "source": []
  },
  {
   "cell_type": "code",
   "execution_count": null,
   "id": "3a51e3de",
   "metadata": {},
   "outputs": [],
   "source": []
  },
  {
   "cell_type": "code",
   "execution_count": null,
   "id": "a519e04c",
   "metadata": {},
   "outputs": [],
   "source": []
  },
  {
   "cell_type": "code",
   "execution_count": null,
   "id": "6fedbc5a",
   "metadata": {},
   "outputs": [],
   "source": []
  }
 ],
 "metadata": {
  "kernelspec": {
   "display_name": "Python 3 (ipykernel)",
   "language": "python",
   "name": "python3"
  },
  "language_info": {
   "codemirror_mode": {
    "name": "ipython",
    "version": 3
   },
   "file_extension": ".py",
   "mimetype": "text/x-python",
   "name": "python",
   "nbconvert_exporter": "python",
   "pygments_lexer": "ipython3",
   "version": "3.11.5"
  }
 },
 "nbformat": 4,
 "nbformat_minor": 5
}
